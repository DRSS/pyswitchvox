{
 "cells": [
  {
   "cell_type": "code",
   "execution_count": 1,
   "metadata": {
    "collapsed": true
   },
   "outputs": [],
   "source": [
    "class SwitchVox:\n",
    "    user = \"\"\n",
    "    password = \"\"\n",
    "    server = \"\"\n",
    "    headers = {'Content-Type': 'application/json', 'Accept': 'text/plain'}\n",
    "\n",
    "    def __init__(self, user, password, server):\n",
    "        self.user = user\n",
    "        self.password = password\n",
    "        self.server = server\n",
    "\n",
    "    def build_json(self, http_method, params):\n",
    "        \"\"\"\n",
    "        Given a valid switchvox method and a dictionary of params\n",
    "        create a valid switchvox request json structure.\n",
    "        \"\"\"\n",
    "        json_data = {'request': {'method': http_method,\n",
    "                                 'parameters': params\n",
    "                                 }\n",
    "                     }\n",
    "        return json.dumps(json_data)\n",
    "\n",
    "    def extensions(self, extensions):\n",
    "        \"\"\"\n",
    "        Given a list of extensions return detailed information on each extension.\n",
    "        \"\"\"\n",
    "        http_method = 'switchvox.extensions.getInfo'\n",
    "        params = {'extensions': extensions}\n",
    "        json_data = self.build_json(http_method, params)\n",
    "        r = requests.post(self.server,\n",
    "                          data=json_data,\n",
    "                          headers=self.headers,\n",
    "                          auth=HTTPDigestAuth(self.user, self.password),\n",
    "                          verify=False)\n",
    "        return r.json()['response']['result']\n",
    "\n",
    "    def call(self, from_phone_number, to_phone_number):\n",
    "        \"\"\"\n",
    "        Initiate a call between a number and a second number, either internal\n",
    "        or external.\n",
    "        \"\"\"\n",
    "        http_method = 'switchvox.call'\n",
    "        account_id = self.extensions(from_phone_number).response.account_id\n",
    "        params = {'dial_first': from_phone_number,\n",
    "                  'dial_second': to_phone_number,\n",
    "                  'dial_as_account_id': account_id\n",
    "                  }\n",
    "        json_data = self.build_json(http_method, params)\n",
    "        print(json_data)\n",
    "        r = requests.post(self.server,\n",
    "                          data=json_data,\n",
    "                          headers=self.headers,\n",
    "                          auth=HTTPDigestAuth(self.user, self.password),\n",
    "                          verify=False)\n",
    "        print r.json()\n",
    "        return r\n"
   ]
  },
  {
   "cell_type": "code",
   "execution_count": 2,
   "metadata": {
    "collapsed": true
   },
   "outputs": [],
   "source": [
    "sw = SwitchVox('steve.castle', 't@ng0d0wn', '192.168.9.9')"
   ]
  },
  {
   "cell_type": "code",
   "execution_count": 3,
   "metadata": {
    "collapsed": false
   },
   "outputs": [
    {
     "ename": "AttributeError",
     "evalue": "SwitchVox instance has no attribute 'extension'",
     "output_type": "error",
     "traceback": [
      "\u001b[1;31m---------------------------------------------------------------------------\u001b[0m",
      "\u001b[1;31mAttributeError\u001b[0m                            Traceback (most recent call last)",
      "\u001b[1;32m<ipython-input-3-4dae5f0bb774>\u001b[0m in \u001b[0;36m<module>\u001b[1;34m()\u001b[0m\n\u001b[1;32m----> 1\u001b[1;33m \u001b[0msw\u001b[0m\u001b[1;33m.\u001b[0m\u001b[0mcall\u001b[0m\u001b[1;33m(\u001b[0m\u001b[1;36m702\u001b[0m\u001b[1;33m,\u001b[0m\u001b[1;34m'3303090778'\u001b[0m\u001b[1;33m)\u001b[0m\u001b[1;33m\u001b[0m\u001b[0m\n\u001b[0m",
      "\u001b[1;32m<ipython-input-1-c537301dbbd2>\u001b[0m in \u001b[0;36mcall\u001b[1;34m(self, from_phone_number, to_phone_number)\u001b[0m\n\u001b[0;32m     41\u001b[0m         \"\"\"\n\u001b[0;32m     42\u001b[0m         \u001b[0mhttp_method\u001b[0m \u001b[1;33m=\u001b[0m \u001b[1;34m'switchvox.call'\u001b[0m\u001b[1;33m\u001b[0m\u001b[0m\n\u001b[1;32m---> 43\u001b[1;33m         \u001b[0maccount_id\u001b[0m \u001b[1;33m=\u001b[0m \u001b[0mself\u001b[0m\u001b[1;33m.\u001b[0m\u001b[0mextension\u001b[0m\u001b[1;33m(\u001b[0m\u001b[0mfrom_phone_number\u001b[0m\u001b[1;33m)\u001b[0m\u001b[1;33m.\u001b[0m\u001b[0mresponse\u001b[0m\u001b[1;33m.\u001b[0m\u001b[0maccount_id\u001b[0m\u001b[1;33m\u001b[0m\u001b[0m\n\u001b[0m\u001b[0;32m     44\u001b[0m         params = {'dial_first': from_phone_number,\n\u001b[0;32m     45\u001b[0m                   \u001b[1;34m'dial_second'\u001b[0m\u001b[1;33m:\u001b[0m \u001b[0mto_phone_number\u001b[0m\u001b[1;33m,\u001b[0m\u001b[1;33m\u001b[0m\u001b[0m\n",
      "\u001b[1;31mAttributeError\u001b[0m: SwitchVox instance has no attribute 'extension'"
     ]
    }
   ],
   "source": [
    "sw.call(702,'3303090778')"
   ]
  },
  {
   "cell_type": "code",
   "execution_count": null,
   "metadata": {
    "collapsed": true
   },
   "outputs": [],
   "source": []
  }
 ],
 "metadata": {
  "kernelspec": {
   "display_name": "Python 2",
   "language": "python",
   "name": "python2"
  },
  "language_info": {
   "codemirror_mode": {
    "name": "ipython",
    "version": 2
   },
   "file_extension": ".py",
   "mimetype": "text/x-python",
   "name": "python",
   "nbconvert_exporter": "python",
   "pygments_lexer": "ipython2",
   "version": "2.7.9"
  }
 },
 "nbformat": 4,
 "nbformat_minor": 0
}
